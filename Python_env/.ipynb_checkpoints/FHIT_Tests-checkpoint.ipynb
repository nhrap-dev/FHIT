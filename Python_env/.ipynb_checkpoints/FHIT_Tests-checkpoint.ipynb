{
 "cells": [
  {
   "cell_type": "code",
   "execution_count": 1,
   "metadata": {},
   "outputs": [],
   "source": [
    "import fhit_main"
   ]
  },
  {
   "cell_type": "code",
   "execution_count": 2,
   "metadata": {},
   "outputs": [
    {
     "data": {
      "text/plain": [
       "'C:\\\\HazusData\\\\HazardInput\\\\'"
      ]
     },
     "execution_count": 2,
     "metadata": {},
     "output_type": "execute_result"
    }
   ],
   "source": [
    "fhit_main.getHazusHazardInputPath()"
   ]
  },
  {
   "cell_type": "code",
   "execution_count": 3,
   "metadata": {},
   "outputs": [
    {
     "name": "stdout",
     "output_type": "stream",
     "text": [
      "C:\\HazusData\\HazardInput\\Surge exists.\n"
     ]
    }
   ],
   "source": [
    "fhit_main.createHazardInputSurgeRiverineFolder(fhit_main.getHazusHazardInputPath(), 's')\n",
    "# delete C:\\HazusData\\HazardInput\\Riverine to reset"
   ]
  },
  {
   "cell_type": "code",
   "execution_count": 4,
   "metadata": {},
   "outputs": [
    {
     "name": "stdout",
     "output_type": "stream",
     "text": [
      "C:\\HazusData\\HazardInput\\Riverine exists.\n"
     ]
    }
   ],
   "source": [
    "fhit_main.createHazardInputSurgeRiverineFolder(fhit_main.getHazusHazardInputPath(), 'r')\n",
    "# delete C:\\HazusData\\HazardInput\\Surge to reset"
   ]
  },
  {
   "cell_type": "code",
   "execution_count": 5,
   "metadata": {},
   "outputs": [
    {
     "ename": "Exception",
     "evalue": "hazardInputType Error: Enter 's' for surge or 'r' for riverine. You entered b.",
     "output_type": "error",
     "traceback": [
      "\u001b[1;31m---------------------------------------------------------------------------\u001b[0m",
      "\u001b[1;31mException\u001b[0m                                 Traceback (most recent call last)",
      "\u001b[1;32m<ipython-input-5-2263e3e4fe8e>\u001b[0m in \u001b[0;36m<module>\u001b[1;34m()\u001b[0m\n\u001b[1;32m----> 1\u001b[1;33m \u001b[0mfhit_main\u001b[0m\u001b[1;33m.\u001b[0m\u001b[0mcreateHazardInputSurgeRiverineFolder\u001b[0m\u001b[1;33m(\u001b[0m\u001b[0mfhit_main\u001b[0m\u001b[1;33m.\u001b[0m\u001b[0mgetHazusHazardInputPath\u001b[0m\u001b[1;33m(\u001b[0m\u001b[1;33m)\u001b[0m\u001b[1;33m,\u001b[0m \u001b[1;34m'b'\u001b[0m\u001b[1;33m)\u001b[0m\u001b[1;33m\u001b[0m\u001b[1;33m\u001b[0m\u001b[0m\n\u001b[0m\u001b[0;32m      2\u001b[0m \u001b[1;31m#should raise an exception since hazardInputType is not 's' or 'r'\u001b[0m\u001b[1;33m\u001b[0m\u001b[1;33m\u001b[0m\u001b[1;33m\u001b[0m\u001b[0m\n",
      "\u001b[1;32mc:\\_repositories\\Development\\FHIT\\src\\fhit_main.py\u001b[0m in \u001b[0;36mcreateHazardInputSurgeRiverineFolder\u001b[1;34m(HazusHazardInputPath, hazardInputType)\u001b[0m\n\u001b[0;32m     60\u001b[0m         \u001b[0mhazardInputType\u001b[0m \u001b[1;33m=\u001b[0m \u001b[1;34m'Surge'\u001b[0m\u001b[1;33m\u001b[0m\u001b[1;33m\u001b[0m\u001b[0m\n\u001b[0;32m     61\u001b[0m     \u001b[1;32melse\u001b[0m\u001b[1;33m:\u001b[0m\u001b[1;33m\u001b[0m\u001b[1;33m\u001b[0m\u001b[0m\n\u001b[1;32m---> 62\u001b[1;33m         \u001b[1;32mraise\u001b[0m \u001b[0mException\u001b[0m\u001b[1;33m(\u001b[0m\u001b[1;34mf\"hazardInputType Error: Enter 's' for surge or 'r' for riverine. You entered {hazardInputType}.\"\u001b[0m\u001b[1;33m)\u001b[0m\u001b[1;33m\u001b[0m\u001b[1;33m\u001b[0m\u001b[0m\n\u001b[0m\u001b[0;32m     63\u001b[0m     \u001b[0mhazardInputPath\u001b[0m \u001b[1;33m=\u001b[0m \u001b[0mos\u001b[0m\u001b[1;33m.\u001b[0m\u001b[0mpath\u001b[0m\u001b[1;33m.\u001b[0m\u001b[0mjoin\u001b[0m\u001b[1;33m(\u001b[0m\u001b[0mHazusHazardInputPath\u001b[0m\u001b[1;33m,\u001b[0m \u001b[0mhazardInputType\u001b[0m\u001b[1;33m)\u001b[0m\u001b[1;33m\u001b[0m\u001b[1;33m\u001b[0m\u001b[0m\n\u001b[0;32m     64\u001b[0m     \u001b[1;32mif\u001b[0m \u001b[1;32mnot\u001b[0m \u001b[0mos\u001b[0m\u001b[1;33m.\u001b[0m\u001b[0mpath\u001b[0m\u001b[1;33m.\u001b[0m\u001b[0mexists\u001b[0m\u001b[1;33m(\u001b[0m\u001b[0mhazardInputPath\u001b[0m\u001b[1;33m)\u001b[0m\u001b[1;33m:\u001b[0m\u001b[1;33m\u001b[0m\u001b[1;33m\u001b[0m\u001b[0m\n",
      "\u001b[1;31mException\u001b[0m: hazardInputType Error: Enter 's' for surge or 'r' for riverine. You entered b."
     ]
    }
   ],
   "source": [
    "fhit_main.createHazardInputSurgeRiverineFolder(fhit_main.getHazusHazardInputPath(), 'b')\n",
    "#should raise an exception since hazardInputType is not 's' or 'r'"
   ]
  },
  {
   "cell_type": "code",
   "execution_count": 6,
   "metadata": {},
   "outputs": [
    {
     "data": {
      "text/plain": [
       "{'ResponseMetadata': {'RequestId': 'NT9D0QKDBHSDRDWR',\n",
       "  'HostId': 'iHRJS3ntGKMH05MmpKHjGMQY5QyrSQSZIxaJy99y+EWHtv2Z/fZKRcbWMSHl3YzfmWRB+nYJseU=',\n",
       "  'HTTPStatusCode': 200,\n",
       "  'HTTPHeaders': {'x-amz-id-2': 'iHRJS3ntGKMH05MmpKHjGMQY5QyrSQSZIxaJy99y+EWHtv2Z/fZKRcbWMSHl3YzfmWRB+nYJseU=',\n",
       "   'x-amz-request-id': 'NT9D0QKDBHSDRDWR',\n",
       "   'date': 'Thu, 11 Feb 2021 21:09:47 GMT',\n",
       "   'x-amz-bucket-region': 'us-east-2',\n",
       "   'content-type': 'application/xml',\n",
       "   'transfer-encoding': 'chunked',\n",
       "   'server': 'AmazonS3'},\n",
       "  'RetryAttempts': 0},\n",
       " 'IsTruncated': False,\n",
       " 'Marker': '',\n",
       " 'Contents': [{'Key': 'a/b/c/./inun_max.tiff',\n",
       "   'LastModified': datetime.datetime(2021, 2, 11, 17, 58, 35, tzinfo=tzutc()),\n",
       "   'ETag': '\"268475407a753c63803ed6f214249775\"',\n",
       "   'Size': 48427,\n",
       "   'StorageClass': 'STANDARD',\n",
       "   'Owner': {'ID': '0e43550fddc20bef708ad941beb2440f00e819e34b515405fcf07aaac2aa463f'}},\n",
       "  {'Key': 'index.html',\n",
       "   'LastModified': datetime.datetime(2021, 2, 4, 16, 59, 56, tzinfo=tzutc()),\n",
       "   'ETag': '\"def819c75284c0df39ef978c3494196b\"',\n",
       "   'Size': 32355,\n",
       "   'StorageClass': 'STANDARD',\n",
       "   'Owner': {'ID': '0e43550fddc20bef708ad941beb2440f00e819e34b515405fcf07aaac2aa463f'}},\n",
       "  {'Key': 'laura/00/laura_hc00.tif',\n",
       "   'LastModified': datetime.datetime(2021, 2, 4, 0, 56, 12, tzinfo=tzutc()),\n",
       "   'ETag': '\"48e5637b8a7627e7665d391ea082d1ca-31\"',\n",
       "   'Size': 256032389,\n",
       "   'StorageClass': 'STANDARD',\n",
       "   'Owner': {'ID': '0e43550fddc20bef708ad941beb2440f00e819e34b515405fcf07aaac2aa463f'}},\n",
       "  {'Key': 'laura/28/laura_adv28.tif',\n",
       "   'LastModified': datetime.datetime(2021, 2, 3, 21, 50, 10, tzinfo=tzutc()),\n",
       "   'ETag': '\"5153b6465322d12a84d4f36252b3f57d-31\"',\n",
       "   'Size': 256032389,\n",
       "   'StorageClass': 'STANDARD',\n",
       "   'Owner': {'ID': '0e43550fddc20bef708ad941beb2440f00e819e34b515405fcf07aaac2aa463f'}},\n",
       "  {'Key': 'laura/29/laura_adv29.tif',\n",
       "   'LastModified': datetime.datetime(2021, 2, 4, 0, 35, 15, tzinfo=tzutc()),\n",
       "   'ETag': '\"f1a591a9f8b5c8d80ab25946cb79a924-31\"',\n",
       "   'Size': 256032389,\n",
       "   'StorageClass': 'STANDARD',\n",
       "   'Owner': {'ID': '0e43550fddc20bef708ad941beb2440f00e819e34b515405fcf07aaac2aa463f'}},\n",
       "  {'Key': 'laura/30/laura_adv30.tif',\n",
       "   'LastModified': datetime.datetime(2021, 2, 4, 0, 42, 1, tzinfo=tzutc()),\n",
       "   'ETag': '\"0e9cbb12d51b3119da621c5fa124ce51-31\"',\n",
       "   'Size': 256032389,\n",
       "   'StorageClass': 'STANDARD',\n",
       "   'Owner': {'ID': '0e43550fddc20bef708ad941beb2440f00e819e34b515405fcf07aaac2aa463f'}}],\n",
       " 'Name': 'hazus',\n",
       " 'Prefix': '',\n",
       " 'MaxKeys': 1000,\n",
       " 'EncodingType': 'url'}"
      ]
     },
     "execution_count": 6,
     "metadata": {},
     "output_type": "execute_result"
    }
   ],
   "source": [
    "fhit_main.connectToAwsS3('hazus')\n",
    "#should get responsemetadata that looks like json but may not be valid json\n",
    "#WArning this could get really long but may have a limit to 1000 records."
   ]
  },
  {
   "cell_type": "code",
   "execution_count": 7,
   "metadata": {},
   "outputs": [
    {
     "name": "stdout",
     "output_type": "stream",
     "text": [
      "    name advisory              tif                       key\n",
      "0  laura       00   laura_hc00.tif   laura/00/laura_hc00.tif\n",
      "1  laura       28  laura_adv28.tif  laura/28/laura_adv28.tif\n",
      "2  laura       29  laura_adv29.tif  laura/29/laura_adv29.tif\n",
      "3  laura       30  laura_adv30.tif  laura/30/laura_adv30.tif\n"
     ]
    }
   ],
   "source": [
    "hazusKeys = fhit_main.getHazusKeys(fhit_main.connectToAwsS3('hazus'))\n",
    "print(hazusKeys)\n",
    "#should return a dataframe"
   ]
  },
  {
   "cell_type": "code",
   "execution_count": 8,
   "metadata": {},
   "outputs": [
    {
     "data": {
      "text/plain": [
       "['laura']"
      ]
     },
     "execution_count": 8,
     "metadata": {},
     "output_type": "execute_result"
    }
   ],
   "source": [
    "fhit_main.getStormNameList(hazusKeys)\n",
    "#should return a list of storm names"
   ]
  },
  {
   "cell_type": "code",
   "execution_count": 9,
   "metadata": {},
   "outputs": [
    {
     "data": {
      "text/plain": [
       "['00', '28', '29', '30']"
      ]
     },
     "execution_count": 9,
     "metadata": {},
     "output_type": "execute_result"
    }
   ],
   "source": [
    "fhit_main.getStormNameAdvisoryList(hazusKeys, 'laura')\n",
    "#should return a list of numbers as strings for a given storm name"
   ]
  },
  {
   "cell_type": "code",
   "execution_count": 10,
   "metadata": {},
   "outputs": [
    {
     "data": {
      "text/plain": [
       "['laura_adv28.tif']"
      ]
     },
     "execution_count": 10,
     "metadata": {},
     "output_type": "execute_result"
    }
   ],
   "source": [
    "fhit_main.getStormNameAdvisoryFileList(hazusKeys,'laura','28')\n",
    "#should return a list of keys as strings for a given storm name and advisory number"
   ]
  },
  {
   "cell_type": "code",
   "execution_count": null,
   "metadata": {},
   "outputs": [],
   "source": []
  },
  {
   "cell_type": "code",
   "execution_count": null,
   "metadata": {},
   "outputs": [],
   "source": []
  },
  {
   "cell_type": "code",
   "execution_count": 43,
   "metadata": {},
   "outputs": [
    {
     "name": "stdout",
     "output_type": "stream",
     "text": [
      "34\n",
      "34\n",
      "34\n",
      "35\n"
     ]
    }
   ],
   "source": [
    "print(int(34.03))\n",
    "print(int(34.75))\n",
    "print(int(round(34.03)))\n",
    "print(int(round(34.75)))"
   ]
  },
  {
   "cell_type": "code",
   "execution_count": 57,
   "metadata": {},
   "outputs": [
    {
     "name": "stdout",
     "output_type": "stream",
     "text": [
      "12\n",
      "['33N113W', '33N114W', '33N115W', '33N116W', '33N117W', '33N118W', '34N113W', '34N114W', '34N115W', '34N116W', '34N117W', '34N118W']\n"
     ]
    }
   ],
   "source": [
    "def TNM(minx,miny,maxx,maxy):\n",
    "    '''\n",
    "    http://prd-tnm.s3.amazonaws.com/index.html?prefix=StagedProducts/Elevation/1/TIFF/\n",
    "    \n",
    "    15 folders e instead of w, ignore for now\n",
    "    Return a list of \"{}N{}W\" strings\n",
    "    \n",
    "    TODO: check input is valid, tell user if its not?\n",
    "    '''\n",
    "    list = []\n",
    "    xRange = range(int(minx),int(maxx)+1)\n",
    "    yRange = range(int(miny),int(maxy)+1)\n",
    "    for x in xRange:\n",
    "        for y in yRange:\n",
    "            list.append(f\"{y}N{x*-1}W\")\n",
    "    list.sort()\n",
    "    return list\n",
    "\n",
    "x = TNM(-118.213, 33.108, -113.757, 34.396)\n",
    "print(len(x))\n",
    "print(x)"
   ]
  },
  {
   "cell_type": "code",
   "execution_count": 58,
   "metadata": {},
   "outputs": [
    {
     "name": "stdout",
     "output_type": "stream",
     "text": [
      "12\n",
      "['33N113W', '33N114W', '33N115W', '33N116W', '33N117W', '33N118W', '34N113W', '34N114W', '34N115W', '34N116W', '34N117W', '34N118W']\n"
     ]
    }
   ],
   "source": [
    "x=TNM(-118, 33, -113, 34)\n",
    "print(len(x))\n",
    "print(x)"
   ]
  },
  {
   "cell_type": "code",
   "execution_count": 59,
   "metadata": {},
   "outputs": [
    {
     "name": "stdout",
     "output_type": "stream",
     "text": [
      "2\n",
      "['33N113W', '34N113W']\n"
     ]
    }
   ],
   "source": [
    "x=TNM(-113, 33, -113, 34)\n",
    "print(len(x))\n",
    "print(x)"
   ]
  },
  {
   "cell_type": "code",
   "execution_count": 60,
   "metadata": {},
   "outputs": [
    {
     "name": "stdout",
     "output_type": "stream",
     "text": [
      "1\n",
      "['33N113W']\n"
     ]
    }
   ],
   "source": [
    "x=TNM(-113, 33, -113, 33)\n",
    "print(len(x))\n",
    "print(x)"
   ]
  },
  {
   "cell_type": "code",
   "execution_count": 61,
   "metadata": {},
   "outputs": [
    {
     "name": "stdout",
     "output_type": "stream",
     "text": [
      "0\n",
      "[]\n"
     ]
    }
   ],
   "source": [
    "x=TNM(-110, 33, -113, 34)\n",
    "print(len(x))\n",
    "print(x)"
   ]
  },
  {
   "cell_type": "code",
   "execution_count": 62,
   "metadata": {},
   "outputs": [
    {
     "name": "stdout",
     "output_type": "stream",
     "text": [
      "0\n",
      "[]\n"
     ]
    }
   ],
   "source": [
    "x=TNM(-114, 33, -113, 0)\n",
    "print(len(x))\n",
    "print(x)"
   ]
  },
  {
   "cell_type": "code",
   "execution_count": null,
   "metadata": {},
   "outputs": [],
   "source": []
  }
 ],
 "metadata": {
  "kernelspec": {
   "display_name": "Python 3",
   "language": "python",
   "name": "python3"
  },
  "language_info": {
   "codemirror_mode": {
    "name": "ipython",
    "version": 3
   },
   "file_extension": ".py",
   "mimetype": "text/x-python",
   "name": "python",
   "nbconvert_exporter": "python",
   "pygments_lexer": "ipython3",
   "version": "3.7.8"
  }
 },
 "nbformat": 4,
 "nbformat_minor": 5
}
